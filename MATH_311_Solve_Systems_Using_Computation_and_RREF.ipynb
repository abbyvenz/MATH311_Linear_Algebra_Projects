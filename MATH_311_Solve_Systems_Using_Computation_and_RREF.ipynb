{
  "nbformat": 4,
  "nbformat_minor": 0,
  "metadata": {
    "colab": {
      "provenance": [],
      "include_colab_link": true
    },
    "kernelspec": {
      "name": "python3",
      "display_name": "Python 3"
    }
  },
  "cells": [
    {
      "cell_type": "markdown",
      "metadata": {
        "id": "view-in-github",
        "colab_type": "text"
      },
      "source": [
        "<a href=\"https://colab.research.google.com/github/abbyvenz/MATH311_Linear_Algebra_Projects/blob/main/MATH_311_Solve_Systems_Using_Computation_and_RREF.ipynb\" target=\"_parent\"><img src=\"https://colab.research.google.com/assets/colab-badge.svg\" alt=\"Open In Colab\"/></a>"
      ]
    },
    {
      "cell_type": "markdown",
      "metadata": {
        "id": "Ry_o-kLL_-wf"
      },
      "source": [
        "# Load the preliminary code"
      ]
    },
    {
      "cell_type": "code",
      "metadata": {
        "id": "dhOLtwrRRc9S"
      },
      "source": [
        "import numpy as np\n",
        "from numpy import c_\n",
        "\n",
        "ll = \"loaded\""
      ],
      "execution_count": 1,
      "outputs": []
    },
    {
      "cell_type": "code",
      "metadata": {
        "id": "AHRXKhal_Wcj",
        "colab": {
          "base_uri": "https://localhost:8080/"
        },
        "outputId": "f1122ab7-4074-4949-b74c-b92ef6b670d7"
      },
      "source": [
        "lll = \" correctly!\"\n",
        "\n",
        "def rref(matrix):\n",
        "    A = np.array(matrix, dtype=np.float64)\n",
        "\n",
        "    r = 0 #row\n",
        "    c = 0 #column\n",
        "\n",
        "    (maxr, maxc) = A.shape\n",
        "\n",
        "    prev_row_pivot = -1   # The previous row with a leading term:\n",
        "    tmp_pivot_row = -1\n",
        "    this_pivot_row = -1\n",
        "\n",
        "    for c in range(maxc):  # go through each column\n",
        "      tmp_pivot_row = -1  # reset the tmp pivot row\n",
        "      this_pivot_row = -1  # reset this pivot row\n",
        "      for r in range(maxr):  # Find the leading term in this column below prev_row_pivot\n",
        "        if ((r > prev_row_pivot) and (A[r][c] != 0.0)):\n",
        "          tmp_pivot_row = r  # find the new pivot row\n",
        "      if (tmp_pivot_row > -1):  # we found a candidate for the leading term:\n",
        "        #swap row this_pivot_row with (prev_row_pivot + 1)\n",
        "        A[[tmp_pivot_row, prev_row_pivot+1]] = A[[prev_row_pivot + 1, tmp_pivot_row]]\n",
        "        #set this_pivot_row to prev_row_pivot+1\n",
        "        this_pivot_row = prev_row_pivot + 1\n",
        "        #Now, normalize the row based on the pivot value:\n",
        "        A[ this_pivot_row ] = A[ this_pivot_row ] / A[ this_pivot_row ][c]\n",
        "        #Then, use this row to force 0's above and below the pivot entry:\n",
        "        #subtract multiples of of the this_pivot_row row from the others\n",
        "        for r_ in range(len(A)):\n",
        "            if r_ != this_pivot_row:\n",
        "                A[r_] = A[r_] - A[this_pivot_row] * A[r_][c] / A[this_pivot_row][c]\n",
        "        prev_row_pivot = this_pivot_row\n",
        "    return A\n",
        "\n",
        "\n",
        "\n",
        "print(\">> The page \", ll, lll)"
      ],
      "execution_count": 2,
      "outputs": [
        {
          "output_type": "stream",
          "name": "stdout",
          "text": [
            ">> The page  loaded  correctly!\n"
          ]
        }
      ]
    },
    {
      "cell_type": "markdown",
      "metadata": {
        "id": "xVLAg1tp7aJX"
      },
      "source": [
        "# Solving Systems using Computation:  An Overview"
      ]
    },
    {
      "cell_type": "markdown",
      "metadata": {
        "id": "2c12Csd440sV"
      },
      "source": [
        "Suppose we wanted to solve a system like:\n",
        "\n",
        "$$\n",
        "\\left\\{ \\begin{array}{rcr} 5x + 6y + 2z & = & -1\\\\ 4x + 7y + 19 z & = & 2 \\\\ 3y + 12z & = & 1 \\\\ \\end{array} \\right.\n",
        "$$\n",
        "\n",
        "First, we create a matrix $A$ to represent the matrix on matrix on the left.  We'll also create a column matrix, or vector, to represent the numbers on the right hand side.  We'll call that vector $\\vec{b}$:"
      ]
    },
    {
      "cell_type": "code",
      "metadata": {
        "id": "uYNwPc9ISAoC"
      },
      "source": [
        "# create the matrix:\n",
        "A = np.matrix([[5, 6, 2],\n",
        "               [4, 7, 19],\n",
        "               [0, 3, 12]])\n",
        "\n",
        "# create the vector for the right hand side:\n",
        "b = np.matrix([[-1], [2], [1]])"
      ],
      "execution_count": 3,
      "outputs": []
    },
    {
      "cell_type": "markdown",
      "metadata": {
        "id": "teSTnJWS4-GS"
      },
      "source": [
        "To verify that we have entered $A$ correctly, or $\\vec{b}$ correctly, simply call\n",
        "\n",
        "```\n",
        "print(A)\n",
        "```\n",
        "\n",
        " or\n",
        "\n",
        "\n",
        "\n",
        "```\n",
        "print(b)\n",
        "```\n",
        "\n",
        "and the system will display that element:\n",
        "\n"
      ]
    },
    {
      "cell_type": "code",
      "metadata": {
        "id": "buHLWqEJ5Hds",
        "colab": {
          "base_uri": "https://localhost:8080/"
        },
        "outputId": "cad362fb-e055-402f-99a8-ab2bed13fa90"
      },
      "source": [
        "print(A)"
      ],
      "execution_count": 4,
      "outputs": [
        {
          "output_type": "stream",
          "name": "stdout",
          "text": [
            "[[ 5  6  2]\n",
            " [ 4  7 19]\n",
            " [ 0  3 12]]\n"
          ]
        }
      ]
    },
    {
      "cell_type": "markdown",
      "metadata": {
        "id": "EDZT8emc5iGZ"
      },
      "source": [
        "We want to solve the augmented matrix  $\\left( A \\, | \\, \\vec{b} \\right)$, so we need to create an augmented matrix.  We use:\n",
        "\n",
        "```\n",
        " np.c_(A, b)\n",
        "```\n",
        "to create the augmented matrix by putting the $\\vec{b}$ vector on the right of the $A$ matrix.  We'll save this new matrix as $M$:\n"
      ]
    },
    {
      "cell_type": "code",
      "metadata": {
        "id": "VFHQRedm5920",
        "colab": {
          "base_uri": "https://localhost:8080/"
        },
        "outputId": "6cf2fdfe-2c7b-4f3b-c89e-a34b1331a798"
      },
      "source": [
        "M = np.c_[A,b]\n",
        "print(M)"
      ],
      "execution_count": 5,
      "outputs": [
        {
          "output_type": "stream",
          "name": "stdout",
          "text": [
            "[[ 5  6  2 -1]\n",
            " [ 4  7 19  2]\n",
            " [ 0  3 12  1]]\n"
          ]
        }
      ]
    },
    {
      "cell_type": "markdown",
      "metadata": {
        "id": "0iuR27cy86S6"
      },
      "source": [
        "Lastly, we'll use te function\n",
        "\n",
        "```\n",
        "rref(M)\n",
        "```\n",
        "\n",
        "to provide the reduced row echelon form of the matrix $M$.  Let's print out the result:\n"
      ]
    },
    {
      "cell_type": "code",
      "metadata": {
        "id": "9Qhe2zZjYAVL",
        "colab": {
          "base_uri": "https://localhost:8080/"
        },
        "outputId": "1b3236d0-b821-477a-891d-6dc76c3de7fa"
      },
      "source": [
        "print(rref(M))"
      ],
      "execution_count": 6,
      "outputs": [
        {
          "output_type": "stream",
          "name": "stdout",
          "text": [
            "[[ 1.          0.          0.          0.45736434]\n",
            " [ 0.          1.          0.         -0.62790698]\n",
            " [-0.         -0.          1.          0.24031008]]\n"
          ]
        }
      ]
    },
    {
      "cell_type": "markdown",
      "metadata": {
        "id": "tL_FR5pV9MIQ"
      },
      "source": [
        "# Use Computation to check prior homework"
      ]
    },
    {
      "cell_type": "markdown",
      "metadata": {
        "id": "SLu14LMjXgAj"
      },
      "source": [
        "We'll use Google Colab to check our solutions to the six systems below, which we solved previously using row operations:\n",
        "\n",
        "$$\n",
        "(a) \\hspace{.5cm}\n",
        "\\left\\{ \\begin{array}{rcr} 2x + 2y & = & 5 \\\\ x - 4y & = & 0 \\\\ \\end{array} \\right.\n",
        "\\hspace{1cm}\n",
        "(b) \\hspace{.5cm}\n",
        "\\left\\{ \\begin{array}{rcr} -x + y &=& 1 \\\\ x + y &=& 2 \\\\ \\end{array}\n",
        "\\right.\n",
        "\\hspace{1cm}\n",
        "(c) \\hspace{.5cm}\n",
        "\\left\\{ \\begin{array}{rcr} x - 3y + z & = 1 \\\\ x + y + 2z & = & 14 \\\\ \\end{array}\n",
        "\\right.\n",
        "\\hspace{1cm}\n",
        "(d) \\hspace{.5cm}\n",
        "\\left\\{ \\begin{array}{rcr} -x - y &=& 1 \\\\ -3x -3 y &=& 2 \\\\ \\end{array}\n",
        "\\right.\n",
        "$$\n",
        "\n",
        "\n",
        "$$\n",
        "(e) \\hspace{.5cm}\n",
        "\\left\\{ \\begin{array}{rcr} 4y + z & = & 20 \\\\ 2x - 2y + z & = & 0 \\\\ x + z & = & 5 \\\\ x + y - z & = & 10 \\\\ \\end{array} \\right.\n",
        "\\hspace{1cm}\n",
        "(f) \\hspace{.5cm}\n",
        "\\left\\{ \\begin{array}{rcr} 2x + z + w & = & 5 \\\\ y - w & = & -1 \\\\ 3x - z - w & = & 0 \\\\ 4x + y + 2z + w & = & 9 \\\\ \\end{array}\n",
        "\\right.\n",
        "$$\n",
        "\n",
        "\n"
      ]
    },
    {
      "cell_type": "markdown",
      "metadata": {
        "id": "XNUulSKp9TgA"
      },
      "source": [
        "The main steps are to:\n",
        "\n",
        "1) Create the matrix $A$ and column vector $\\vec{b}$ for the system using\n",
        "\n",
        "\n",
        "\n",
        "```\n",
        "# create the matrix:\n",
        "A = np.matrix([[5, 6, 2],\n",
        "               [4, 7, 19],\n",
        "               [0, 3, 12]])\n",
        "\n",
        "# create the vector for the right hand side:\n",
        "b = np.matrix([[-1], [2], [1]])\n",
        "```\n",
        "\n",
        "\n",
        "2) Create the augmented matrix $\\left( A \\, | \\, \\vec{b} \\right)$ using\n",
        "\n",
        "\n",
        "\n",
        "```\n",
        "M = np.c_[A,b]\n",
        "```\n",
        "\n",
        "3)  Display the reduced row echelon form of $M$ using\n",
        "\n",
        "\n",
        "\n",
        "```\n",
        "print(rref(M))\n",
        "```\n",
        "\n",
        "You'll do this for each of the six systems of equations from the homework:\n"
      ]
    },
    {
      "cell_type": "markdown",
      "metadata": {
        "id": "ieV1CTIh-Lzd"
      },
      "source": [
        "$$\n",
        "(a) \\hspace{.5cm}\n",
        "\\left\\{ \\begin{array}{rcr} 2x + 2y & = & 5 \\\\ x - 4y & = & 0 \\\\ \\end{array} \\right.\n",
        "$$"
      ]
    },
    {
      "cell_type": "code",
      "metadata": {
        "id": "uEUzkFMc-NrD"
      },
      "source": [
        "A = np.matrix([[2, 2],\n",
        "               [1, -4]])\n",
        "\n",
        "b = np.matrix([[5], [0]])"
      ],
      "execution_count": 7,
      "outputs": []
    },
    {
      "cell_type": "code",
      "source": [
        "M = np.c_[A, b]"
      ],
      "metadata": {
        "id": "B16MzqroXdgi"
      },
      "execution_count": 8,
      "outputs": []
    },
    {
      "cell_type": "code",
      "source": [
        "print(rref(M))"
      ],
      "metadata": {
        "colab": {
          "base_uri": "https://localhost:8080/"
        },
        "id": "K0ewVg55Xh2s",
        "outputId": "d5c30a8e-54bc-4106-df81-bc96100215ba"
      },
      "execution_count": 9,
      "outputs": [
        {
          "output_type": "stream",
          "name": "stdout",
          "text": [
            "[[1.  0.  2. ]\n",
            " [0.  1.  0.5]]\n"
          ]
        }
      ]
    },
    {
      "cell_type": "markdown",
      "metadata": {
        "id": "l_5PUxlo-OnH"
      },
      "source": [
        "$$\n",
        "(b) \\hspace{.5cm}\n",
        "\\left\\{ \\begin{array}{rcr} -x + y &=& 1 \\\\ x + y &=& 2 \\\\ \\end{array}\n",
        "\\right.\n",
        "$$"
      ]
    },
    {
      "cell_type": "code",
      "metadata": {
        "id": "rgpL6ig2-QJf"
      },
      "source": [
        "A = np.matrix([[-1, 1],\n",
        "               [1, 1]])\n",
        "\n",
        "b = np.matrix([[1], [2]])"
      ],
      "execution_count": 10,
      "outputs": []
    },
    {
      "cell_type": "code",
      "source": [
        "M = np.c_[A, b]"
      ],
      "metadata": {
        "id": "TH3W-vD-X2Tx"
      },
      "execution_count": 11,
      "outputs": []
    },
    {
      "cell_type": "code",
      "source": [
        "print(rref(M))"
      ],
      "metadata": {
        "colab": {
          "base_uri": "https://localhost:8080/"
        },
        "id": "xt3A2CCPX5WG",
        "outputId": "c2ef0fcd-bfc0-4bc9-f73e-f9854077b666"
      },
      "execution_count": 12,
      "outputs": [
        {
          "output_type": "stream",
          "name": "stdout",
          "text": [
            "[[1.  0.  0.5]\n",
            " [0.  1.  1.5]]\n"
          ]
        }
      ]
    },
    {
      "cell_type": "markdown",
      "metadata": {
        "id": "6pw-7ZxU-QuE"
      },
      "source": [
        "$$\n",
        "(c) \\hspace{.5cm}\n",
        "\\left\\{ \\begin{array}{rcr} x - 3y + z & = 1 \\\\ x + y + 2z & = & 14 \\\\ \\end{array}\n",
        "\\right.\n",
        "$$"
      ]
    },
    {
      "cell_type": "code",
      "metadata": {
        "id": "4Fm9M0Pg-S_F"
      },
      "source": [
        "A = np.matrix([[1, -3, 1],\n",
        "               [1, 1, 2]])\n",
        "\n",
        "b = np.matrix([[1], [14]])"
      ],
      "execution_count": 13,
      "outputs": []
    },
    {
      "cell_type": "code",
      "source": [
        "M = np.c_[A, b]"
      ],
      "metadata": {
        "id": "SlgTbxOdYHBW"
      },
      "execution_count": 14,
      "outputs": []
    },
    {
      "cell_type": "code",
      "source": [
        "print(rref(M))"
      ],
      "metadata": {
        "colab": {
          "base_uri": "https://localhost:8080/"
        },
        "id": "WyatuJmOYJ8i",
        "outputId": "bf8849eb-214e-43e9-a9e3-d59f45e5bb69"
      },
      "execution_count": 15,
      "outputs": [
        {
          "output_type": "stream",
          "name": "stdout",
          "text": [
            "[[ 1.    0.    1.75 10.75]\n",
            " [-0.    1.    0.25  3.25]]\n"
          ]
        }
      ]
    },
    {
      "cell_type": "markdown",
      "metadata": {
        "id": "KiRFFlCt-Tr2"
      },
      "source": [
        "$$\n",
        "(d) \\hspace{.5cm}\n",
        "\\left\\{ \\begin{array}{rcr} -x - y &=& 1 \\\\ -3x -3 y &=& 2 \\\\ \\end{array}\n",
        "\\right.\n",
        "$$"
      ]
    },
    {
      "cell_type": "code",
      "metadata": {
        "id": "aoJNak7k-VlQ"
      },
      "source": [
        "A = np.matrix([[-1, -1],\n",
        "               [-3, -3]])\n",
        "\n",
        "b = np.matrix([[1], [2]])"
      ],
      "execution_count": 16,
      "outputs": []
    },
    {
      "cell_type": "code",
      "source": [
        "M = np.c_[A, b]"
      ],
      "metadata": {
        "id": "izpprMHPaIJh"
      },
      "execution_count": 17,
      "outputs": []
    },
    {
      "cell_type": "code",
      "source": [
        "print(rref(M))"
      ],
      "metadata": {
        "colab": {
          "base_uri": "https://localhost:8080/"
        },
        "id": "fr2fpgryaKEG",
        "outputId": "4fbf70b0-1b95-4a13-d440-59e67368ea0f"
      },
      "execution_count": 18,
      "outputs": [
        {
          "output_type": "stream",
          "name": "stdout",
          "text": [
            "[[1. 1. 0.]\n",
            " [0. 0. 1.]]\n"
          ]
        }
      ]
    },
    {
      "cell_type": "markdown",
      "metadata": {
        "id": "wyc1fCaY-WFu"
      },
      "source": [
        "$$\n",
        "(e) \\hspace{.5cm}\n",
        "\\left\\{ \\begin{array}{rcr} 4y + z & = & 20 \\\\ 2x - 2y + z & = & 0 \\\\ x + z & = & 5 \\\\ x + y - z & = & 10 \\\\ \\end{array} \\right.\n",
        "$$"
      ]
    },
    {
      "cell_type": "code",
      "metadata": {
        "id": "98NNaKMX-Xiq"
      },
      "source": [
        "A = np.matrix([[0, 4, 1],\n",
        "               [2, -2, 1],\n",
        "               [1, 0, 1],\n",
        "               [1, 1, -1]])\n",
        "\n",
        "b = np.matrix([[20], [0], [5], [10]])"
      ],
      "execution_count": 19,
      "outputs": []
    },
    {
      "cell_type": "code",
      "source": [
        "M = np.c_[A, b]"
      ],
      "metadata": {
        "id": "ZFZHhJ8_anEY"
      },
      "execution_count": 20,
      "outputs": []
    },
    {
      "cell_type": "code",
      "source": [
        "print(rref(M))"
      ],
      "metadata": {
        "colab": {
          "base_uri": "https://localhost:8080/"
        },
        "id": "7HpvoHvhao7J",
        "outputId": "b20d321c-c946-435a-8227-a56d8b321c4c"
      },
      "execution_count": 21,
      "outputs": [
        {
          "output_type": "stream",
          "name": "stdout",
          "text": [
            "[[1. 0. 0. 5.]\n",
            " [0. 1. 0. 5.]\n",
            " [0. 0. 1. 0.]\n",
            " [0. 0. 0. 0.]]\n"
          ]
        }
      ]
    },
    {
      "cell_type": "markdown",
      "metadata": {
        "id": "22QYFvJX-a6O"
      },
      "source": [
        "$$\n",
        "(f) \\hspace{.5cm}\n",
        "\\left\\{ \\begin{array}{rcr} 2x + z + w & = & 5 \\\\ y - w & = & -1 \\\\ 3x - z - w & = & 0 \\\\ 4x + y + 2z + w & = & 9 \\\\ \\end{array}\n",
        "\\right.\n",
        "$$"
      ]
    },
    {
      "cell_type": "code",
      "metadata": {
        "id": "r3WB6JRn-b5W"
      },
      "source": [
        "A = np.matrix([[2, 0, 1, 1],\n",
        "               [0, 1, 0, -1],\n",
        "               [3, 0, -1, -1],\n",
        "               [4, 1, 2, 1]])\n",
        "\n",
        "b = np.matrix([[5], [-1], [0], [9]])"
      ],
      "execution_count": 24,
      "outputs": []
    },
    {
      "cell_type": "code",
      "metadata": {
        "id": "769dXoztlBcx"
      },
      "source": [
        "M = np.c_[A, b]"
      ],
      "execution_count": 25,
      "outputs": []
    },
    {
      "cell_type": "code",
      "source": [
        "print(rref(M))"
      ],
      "metadata": {
        "colab": {
          "base_uri": "https://localhost:8080/"
        },
        "id": "2mTAqeqAbLto",
        "outputId": "752fd2ac-fd84-4daa-f8fe-342f070fe816"
      },
      "execution_count": 26,
      "outputs": [
        {
          "output_type": "stream",
          "name": "stdout",
          "text": [
            "[[ 1.  0.  0.  0.  1.]\n",
            " [-0.  1.  0. -1. -1.]\n",
            " [-0. -0.  1.  1.  3.]\n",
            " [ 0.  0.  0.  0.  0.]]\n"
          ]
        }
      ]
    }
  ]
}